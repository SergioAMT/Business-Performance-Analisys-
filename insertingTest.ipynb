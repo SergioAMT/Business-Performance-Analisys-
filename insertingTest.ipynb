{
 "cells": [
  {
   "cell_type": "code",
   "execution_count": 1,
   "id": "e84dec28",
   "metadata": {},
   "outputs": [
    {
     "name": "stderr",
     "output_type": "stream",
     "text": [
      "C:\\Users\\Admin\\AppData\\Local\\Temp\\ipykernel_18596\\1792007499.py:1: DeprecationWarning: \n",
      "Pyarrow will become a required dependency of pandas in the next major release of pandas (pandas 3.0),\n",
      "(to allow more performant data types, such as the Arrow string type, and better interoperability with other libraries)\n",
      "but was not found to be installed on your system.\n",
      "If this would cause problems for you,\n",
      "please provide us feedback at https://github.com/pandas-dev/pandas/issues/54466\n",
      "        \n",
      "  import pandas as pd\n"
     ]
    }
   ],
   "source": [
    "import pandas as pd \n",
    "import os\n",
    "from sqlalchemy import create_engine\n",
    "import logging\n",
    "import time\n",
    "\n",
    "logging.basicConfig(\n",
    "    filename=\"logs/ingestion_db.log\",\n",
    "    level=logging.DEBUG,\n",
    "    format='%(asctime)s - %(levelname)s - %(message)s',\n",
    "    filemode=\"a\"\n",
    ")\n",
    "\n",
    "engine = create_engine('sqlite:///inventory.db')\n",
    "\n",
    "def ingest_db(df, table_name, engine):\n",
    "    df.to_sql(table_name, con=engine, if_exists = 'append', index = False)\n",
    "\n",
    "    \n"
   ]
  },
  {
   "cell_type": "code",
   "execution_count": 2,
   "id": "48126184",
   "metadata": {},
   "outputs": [],
   "source": [
    "\n",
    "df1 = pd.read_csv('data/begin_inventory.csv', chunksize=100000)\n",
    "for chunk in df1:\n",
    "    start = time.time()\n",
    "    ingest_db(chunk, 'begin_inventory', engine)\n",
    "end = time.time()\n",
    "total_time= (end - start)/60\n",
    "            \n",
    "logging.info('Ingestion completed')\n",
    "    \n",
    "logging.info(f'Total time taken: {total_time} minutes')  "
   ]
  },
  {
   "cell_type": "code",
   "execution_count": 3,
   "id": "a21a3627",
   "metadata": {},
   "outputs": [],
   "source": [
    "df2 = pd.read_csv('data/end_inventory.csv', chunksize=100000)\n",
    "for chunk in df2:\n",
    "    start = time.time()\n",
    "    ingest_db(chunk, 'end_inventory', engine)\n",
    "end = time.time()\n",
    "total_time= (end - start)/60\n",
    "            \n",
    "logging.info('Ingestion completed')\n",
    "    \n",
    "logging.info(f'Total time taken: {total_time} minutes')"
   ]
  },
  {
   "cell_type": "code",
   "execution_count": 5,
   "id": "c79db63a",
   "metadata": {},
   "outputs": [],
   "source": [
    "df3 = pd.read_csv('data/purchase_prices.csv', chunksize=100000)\n",
    "for chunk in df3:\n",
    "    start = time.time()\n",
    "    ingest_db(chunk, 'purchase_prices', engine)\n",
    "end = time.time()\n",
    "total_time= (end - start)/60\n",
    "            \n",
    "logging.info('Ingestion completed')\n",
    "    \n",
    "logging.info(f'Total time taken: {total_time} minutes')"
   ]
  },
  {
   "cell_type": "code",
   "execution_count": 6,
   "id": "415e7509",
   "metadata": {},
   "outputs": [],
   "source": [
    "df4 = pd.read_csv('data/purchases.csv', chunksize=100000)\n",
    "for chunk in df4:\n",
    "    start = time.time()\n",
    "    ingest_db(chunk, 'purchases', engine)\n",
    "end = time.time()\n",
    "total_time= (end - start)/60\n",
    "            \n",
    "logging.info('Ingestion completed')\n",
    "    \n",
    "logging.info(f'Total time taken: {total_time} minutes')"
   ]
  },
  {
   "cell_type": "code",
   "execution_count": 7,
   "id": "b130459c",
   "metadata": {},
   "outputs": [],
   "source": [
    "df5 = pd.read_csv('data/vendor_invoice.csv', chunksize=100000)\n",
    "for chunk in df5:\n",
    "    start = time.time()\n",
    "    ingest_db(chunk, 'vendor_invoice', engine)\n",
    "end = time.time()\n",
    "total_time= (end - start)/60\n",
    "            \n",
    "logging.info('Ingestion completed')\n",
    "    \n",
    "logging.info(f'Total time taken: {total_time} minutes')"
   ]
  },
  {
   "cell_type": "code",
   "execution_count": 8,
   "id": "a14ee4a4",
   "metadata": {},
   "outputs": [],
   "source": [
    "df6 = pd.read_csv('data/sales.csv', chunksize=150000)\n",
    "for chunk in df6:\n",
    "    start = time.time()\n",
    "    ingest_db(chunk, 'sales', engine)\n",
    "end = time.time()\n",
    "total_time= (end - start)/60\n",
    "            \n",
    "logging.info('Ingestion completed')\n",
    "    \n",
    "logging.info(f'Total time taken: {total_time} minutes')"
   ]
  },
  {
   "cell_type": "code",
   "execution_count": 9,
   "id": "8d3dba16",
   "metadata": {},
   "outputs": [],
   "source": [
    "engine2 = create_engine('sqlite:///inventory2.db')\n",
    "\n",
    "def ingest_db1(df, table_name, engine):\n",
    "    df.to_sql(table_name, con=engine2, if_exists = 'append', index = False)\n",
    "       \n",
    "def load_row_data():\n",
    "    start = time.time()\n",
    "    for file in os.listdir('data'):\n",
    "        if '.csv' in file:\n",
    "            df = pd.read_csv('data/'+file, chunksize=150000)\n",
    "            logging.info(f'Ingestion {file} in db')\n",
    "            for chunck in df:\n",
    "                ingest_db1(chunck, file[:-4], engine2)\n",
    "    \n",
    "    end = time.time()\n",
    "    total_time= (end - start)/60\n",
    "            \n",
    "    logging.info('Ingestion completed')\n",
    "    \n",
    "    logging.info(f'Total time taken: {total_time} minutes')    \n",
    "    \n",
    "\n",
    "load_row_data()"
   ]
  }
 ],
 "metadata": {
  "kernelspec": {
   "display_name": "Python 3",
   "language": "python",
   "name": "python3"
  },
  "language_info": {
   "codemirror_mode": {
    "name": "ipython",
    "version": 3
   },
   "file_extension": ".py",
   "mimetype": "text/x-python",
   "name": "python",
   "nbconvert_exporter": "python",
   "pygments_lexer": "ipython3",
   "version": "3.11.4"
  }
 },
 "nbformat": 4,
 "nbformat_minor": 5
}
